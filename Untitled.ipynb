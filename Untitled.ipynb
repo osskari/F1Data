{
 "cells": [
  {
   "cell_type": "markdown",
   "metadata": {},
   "source": [
    "## Table of contents\n",
    "\n",
    "1. Introduction\n",
    "2. License\n",
    "3. Required libraries\n",
    "4. The problem\n",
    "5. Strategy\n",
    "6. Checking data\n",
    "7. Cleaning data\n",
    "8. Exploring data\n",
    "    a. map\n",
    "    b. HAM/ROS rivalry\n",
    "    c. \n",
    "9. Creating DF for Regression/Classification\n",
    "10. Predicting a champion\n",
    "11. Conclusion"
   ]
  },
  {
   "cell_type": "code",
   "execution_count": null,
   "metadata": {},
   "outputs": [],
   "source": [
    "import pandas as pd \n",
    "import numpy as np\n",
    "import matplotlib.pyplot as plt"
   ]
  },
  {
   "cell_type": "markdown",
   "metadata": {},
   "source": [
    "Create Tables"
   ]
  },
  {
   "cell_type": "code",
   "execution_count": null,
   "metadata": {},
   "outputs": [],
   "source": [
    "# Create a local SQLite database\n",
    "from sqlalchemy import create_engine\n",
    "engine = create_engine('sqlite:///:memory:')\n",
    "\n",
    "# Import DB creation objects and initialize \n",
    "from sqlalchemy import Table, Column, Integer, String, Float, MetaData, ForeignKey, Date\n",
    "meta = MetaData()\n",
    "\n",
    "# Create tables\n",
    "\n",
    "# Circuits\n",
    "Table (\n",
    "    'Circuits', meta,\n",
    "    Column('circuitId', Integer, primary_key=True),\n",
    "    Column('circuitRef', String),\n",
    "    Column('name', String),\n",
    "    Column('location', String),\n",
    "    Column('country', String),\n",
    "    Column('lat', Float),\n",
    "    Column('lng', Float),\n",
    "#     Column('alt', Integer),\n",
    "#     Column('url', String)\n",
    ")\n",
    "\n",
    "# Races\n",
    "Table (\n",
    "    'Races', meta,\n",
    "    Column('raceId', Integer, primary_key=True),\n",
    "    Column('year', Integer),\n",
    "    Column('round', Integer),\n",
    "    Column('circuitId', ForeignKey('Circuits.circuitId')),\n",
    "    Column('name', String),\n",
    "    Column('date', Date),\n",
    "    Column('time', String),\n",
    "#     Column('url', String)\n",
    ")\n",
    "\n",
    "# Drivers\n",
    "Table (\n",
    "    'Drivers', meta,\n",
    "    Column('driverId', Integer, primary_key=True),\n",
    "    Column('driverRef', String),\n",
    "#     Column('number', Integer),\n",
    "#     Column('code', String),\n",
    "    Column('forename', String),\n",
    "    Column('surname', String),\n",
    "    Column('dob', String),\n",
    "    Column('nationality', String),\n",
    "#     Column('url', String)\n",
    ")\n",
    "\n",
    "# Constructors\n",
    "Table (\n",
    "    'Constructors', meta,\n",
    "    Column('constructorId', Integer, primary_key=True),\n",
    "    Column('constructorRef', String),\n",
    "    Column('name', String),\n",
    "    Column('nationality', String),\n",
    "#     Column('url', String)\n",
    ")\n",
    "\n",
    "# Status\n",
    "Table (\n",
    "    'Status', meta,\n",
    "    Column('statusId', Integer, primary_key=True),\n",
    "    Column('status', String)\n",
    ")\n",
    "\n",
    "# Results\n",
    "Table (\n",
    "    'Results', meta,\n",
    "    Column('resultId', Integer, primary_key=True),\n",
    "    Column('raceId', ForeignKey('Races.raceId')),\n",
    "    Column('driverId', ForeignKey('Drivers.driverId')),\n",
    "    Column('constructorId', ForeignKey('Constructors.constructorId')),\n",
    "#     Column('number', Integer),\n",
    "    Column('grid', Integer),\n",
    "#     Column('position', Integer),\n",
    "    Column('positionText', String),\n",
    "    Column('positionOrder', Integer),\n",
    "    Column('points', Integer),\n",
    "    Column('laps', Integer),\n",
    "    Column('time', String),\n",
    "    Column('milliseconds', Integer),\n",
    "    Column('fastestLap', Integer),\n",
    "    Column('rank', Integer),\n",
    "    Column('fastestLapTime', String),\n",
    "    Column('fastestLapSpeed', Float),\n",
    "    Column('statusId', ForeignKey('Status.statusId'))\n",
    ")\n",
    "\n",
    "# Driver Standings\n",
    "Table (\n",
    "    'DriverStandings', meta,\n",
    "    Column('driverStandingsId', Integer, primary_key=True),\n",
    "    Column('raceId', ForeignKey('Races.raceId')),\n",
    "    Column('driverId', ForeignKey('Drivers.driverId')),\n",
    "    Column('points', Integer),\n",
    "#     Column('position', Integer),\n",
    "    Column('positionText', String),\n",
    "    Column('wins', Integer)\n",
    ")\n",
    "\n",
    "# Constructor Results\n",
    "Table (\n",
    "    'ConstructorResults', meta,\n",
    "    Column('constructorResultsId', Integer, primary_key=True),\n",
    "    Column('raceId', ForeignKey('Races.raceId')),\n",
    "    Column('constructorId', ForeignKey('Constructors.constructorId')),\n",
    "    Column('points', Integer),\n",
    "    Column('status', String)\n",
    ")\n",
    "\n",
    "# Constructor Standings\n",
    "Table (\n",
    "    'ConstructorStandings', meta,\n",
    "    Column('constructorStandingsId', Integer, primary_key=True),\n",
    "    Column('raceId', ForeignKey('Races.raceId')),\n",
    "    Column('constructorId', ForeignKey('Constructors.constructorId')),\n",
    "    Column('points', Integer),\n",
    "#     Column('position', Integer),\n",
    "    Column('positionText', String),\n",
    "    Column('wins', Integer)\n",
    ")\n",
    "\n",
    "# Pit Stops\n",
    "Table (\n",
    "    'PitStops', meta,\n",
    "    Column('raceId', ForeignKey('Races.raceId')),\n",
    "    Column('driverId', ForeignKey('Drivers.driverId')),\n",
    "    Column('stop', Integer),\n",
    "    Column('lap', Integer),\n",
    "    Column('time', Date),\n",
    "    Column('duration', String),\n",
    "    Column('milliseconds', Integer)\n",
    ")\n",
    "\n",
    "Table (\n",
    "    'Seasons', meta,\n",
    "    Column('year', Integer),\n",
    "#     Column('url', String)\n",
    ")\n",
    "\n",
    "# Create tables in database\n",
    "meta.create_all(engine)"
   ]
  },
  {
   "cell_type": "markdown",
   "metadata": {},
   "source": [
    "Read from csv files, drop unwanted columns and write the rest to database"
   ]
  },
  {
   "cell_type": "code",
   "execution_count": null,
   "metadata": {},
   "outputs": [],
   "source": [
    "def populate_table(fileName, tableName, drop=[]):\n",
    "    pd.read_csv(\"formula-1-race-data-19502017/\"+fileName, encoding=\"ISO-8859-1\").drop(drop, axis=1).to_sql(\n",
    "        tableName, engine, if_exists='append', index=False)\n",
    "    \n",
    "# Populate tables with .csv data\n",
    "\n",
    "# Circuits\n",
    "populate_table('circuits.csv', 'Circuits', ['alt', 'url'])\n",
    "\n",
    "# Races\n",
    "populate_table('races.csv', 'Races', ['url'])\n",
    "\n",
    "# Drivers\n",
    "populate_table('drivers.csv', 'Drivers', ['number', 'code', 'url'])\n",
    "\n",
    "# Constructors\n",
    "populate_table('constructors.csv', 'Constructors', ['url'])\n",
    "\n",
    "# Status\n",
    "populate_table('status.csv', 'Status')\n",
    "\n",
    "# Status\n",
    "populate_table('results.csv', 'Results', ['number', 'position'])\n",
    "\n",
    "# Driver Standings\n",
    "populate_table('driverStandings.csv', 'DriverStandings', ['position'])\n",
    "\n",
    "# Constructor Results\n",
    "populate_table('constructorResults.csv', 'ConstructorResults')\n",
    "\n",
    "# Constructor Standings\n",
    "populate_table('constructorStandings.csv', 'ConstructorStandings', ['position'])\n",
    "\n",
    "# Pit Stops\n",
    "populate_table('pitStops.csv', 'PitStops')\n",
    "\n",
    "# Seasons\n",
    "populate_table('seasons.csv', 'Seasons', ['url'])"
   ]
  },
  {
   "cell_type": "markdown",
   "metadata": {
    "scrolled": true
   },
   "source": [
    "Winning drivers ordered by amount of wins"
   ]
  },
  {
   "cell_type": "code",
   "execution_count": null,
   "metadata": {},
   "outputs": [],
   "source": [
    "winners = pd.read_sql_query(' '.join(\n",
    "    [\n",
    "        'SELECT r.driverId, d.forename, d.surname, count(r.driverId) AS wins',\n",
    "        'FROM Results AS r',\n",
    "        'JOIN Drivers AS d',\n",
    "        'ON d.driverId = r.driverId',\n",
    "        'WHERE r.positionText = \"1\"',\n",
    "        'GROUP BY r.driverId',\n",
    "        'ORDER BY wins ASC'\n",
    "    ]), engine).set_index('driverId')\n",
    "winners"
   ]
  },
  {
   "cell_type": "code",
   "execution_count": null,
   "metadata": {},
   "outputs": [],
   "source": [
    "# Setup figure\n",
    "fig, ax = plt.subplots()\n",
    "fig.set_figheight(15)\n",
    "fig.set_figwidth(12)\n",
    "fig.patch.set_facecolor('#dddddd')\n",
    "ax.set_facecolor('#eeeeee')\n",
    "\n",
    "# Prepare data\n",
    "winplots = winners[winners['wins'] > 2].sort_values(by=['wins'], ascending=False)\n",
    "people = tuple([row['forename'] + ' ' + row['surname']for i, row in winplots.iterrows()])\n",
    "colors = [f'C{i}' for i in range(len(people))]\n",
    "\n",
    "# Plot data\n",
    "ax.barh(people, winplots['wins'], align='center', color=colors)\n",
    "\n",
    "# Set visual components of plot\n",
    "ax.margins(x=0.1, y=0.005)\n",
    "ax.invert_yaxis()\n",
    "ax.set_xlabel('Number of race wins')\n",
    "ax.set_ylabel('Driver names')\n",
    "ax.set_title('Race wins for drivers (more than 2 wins)')\n",
    "ax.xaxis.grid(True)\n",
    "\n",
    "# Vertivcal average line\n",
    "ax.axvline(x=winners['wins'].mean(), color='#000000', linestyle='--', linewidth=1.3)\n",
    "ax.text(winners['wins'].mean()-3, 64.5, 'Average', horizontalalignment='left', verticalalignment='top')\n",
    "\n",
    "# Show figure\n",
    "plt.show()"
   ]
  },
  {
   "cell_type": "markdown",
   "metadata": {},
   "source": [
    "Championship order for any year"
   ]
  },
  {
   "cell_type": "code",
   "execution_count": null,
   "metadata": {
    "scrolled": false
   },
   "outputs": [],
   "source": [
    "def getStandingsForYear(year):\n",
    "    stand = pd.read_sql_query(' '.join([\n",
    "        f'SELECT d.driverId, d.forename, d.surname, d.dob, d.nationality, SUM(res.points) as TotalPoints',\n",
    "        'FROM Results AS res',\n",
    "        'JOIN Races AS rc',\n",
    "        'ON rc.raceId = res.raceId',\n",
    "        'JOIN Drivers as d',\n",
    "        'ON d.driverId = res.driverId',\n",
    "        f'WHERE rc.year = {year}',\n",
    "        'GROUP BY res.driverId',\n",
    "        'ORDER BY TotalPoints DESC'\n",
    "    ]), engine)\n",
    "    stand.insert(1, 'position', [x+1 for x in stand.index])\n",
    "    return stand.set_index('driverId')\n",
    "    \n",
    "getStandingsForYear(1992)"
   ]
  },
  {
   "cell_type": "markdown",
   "metadata": {},
   "source": [
    "List of drivers world champions by year"
   ]
  },
  {
   "cell_type": "code",
   "execution_count": null,
   "metadata": {},
   "outputs": [],
   "source": [
    "champions = {'driverId': [], 'year': [], 'winner': []}\n",
    "for year in np.sort(pd.read_sql_query('SELECT * FROM Seasons',engine)['year'].values):\n",
    "    standings = getStandingsForYear(year)\n",
    "    champions['year'].append(year)\n",
    "    champions['winner'].append(' '.join(standings.iloc[0][['forename', 'surname']].to_numpy()))\n",
    "    champions['driverId'].append(standings.iloc[0].name)\n",
    "\n",
    "champs = pd.DataFrame(champions)\n",
    "champs"
   ]
  },
  {
   "cell_type": "markdown",
   "metadata": {},
   "source": [
    "World champions ordered by number of championships won"
   ]
  },
  {
   "cell_type": "code",
   "execution_count": null,
   "metadata": {},
   "outputs": [],
   "source": [
    "champCount = {k: 0 for k in champs['winner'].unique()}\n",
    "for i, row in champs.iterrows():\n",
    "    champCount[row['winner']]+=1\n",
    "championships = pd.DataFrame({'driverId': [x for x in champs['driverId'].unique()], \n",
    "              'Drivers': list(champCount.keys()), \n",
    "              'Championships': list(champCount.values())}).sort_values(by=['Championships'], ascending=False)\n",
    "championships"
   ]
  },
  {
   "cell_type": "code",
   "execution_count": null,
   "metadata": {},
   "outputs": [],
   "source": [
    "# Setup figure\n",
    "fig, ax = plt.subplots()\n",
    "fig.set_figheight(11)\n",
    "fig.set_figwidth(11)\n",
    "fig.patch.set_facecolor('#dddddd')\n",
    "ax.set_facecolor('#eeeeee')\n",
    "\n",
    "# Alternate bar colors\n",
    "colors = [f'C{i}' for i in range(championships.shape[0])]\n",
    "\n",
    "# Plot data\n",
    "ax.barh(championships['Drivers'], championships['Championships'], color=colors)\n",
    "\n",
    "# Set visual components of plot\n",
    "ax.margins(x=0.1, y=0.005)\n",
    "ax.invert_yaxis()\n",
    "ax.set_xlabel('Number of championships')\n",
    "ax.set_ylabel('Driver names')\n",
    "ax.set_title('Driver championships winners')\n",
    "ax.xaxis.grid(True)\n",
    "\n",
    "# Show figure\n",
    "plt.show()"
   ]
  },
  {
   "cell_type": "markdown",
   "metadata": {},
   "source": [
    "Race wins for a year"
   ]
  },
  {
   "cell_type": "code",
   "execution_count": null,
   "metadata": {},
   "outputs": [],
   "source": [
    "def getWinsForYear(year):\n",
    "    return pd.read_sql_query(' '.join([\n",
    "        'SELECT d.driverId, d.forename, d.surname, d.dob, d.nationality, COUNT(res.positionText) as RaceWins',\n",
    "        'FROM Results AS res',\n",
    "        'JOIN Races AS rc',\n",
    "        'ON rc.raceId = res.raceId',\n",
    "        'JOIN Drivers as d',\n",
    "        'ON d.driverId = res.driverId',\n",
    "        f'WHERE rc.year = {year}',\n",
    "        'AND res.positionText = \"1\"',\n",
    "        'GROUP BY res.driverId',\n",
    "        'ORDER BY RaceWins DESC'\n",
    "    ]), engine).set_index('driverId')\n",
    "\n",
    "getWinsForYear(1982)"
   ]
  },
  {
   "cell_type": "markdown",
   "metadata": {},
   "source": [
    "Race wins to win a championship"
   ]
  },
  {
   "cell_type": "code",
   "execution_count": null,
   "metadata": {},
   "outputs": [],
   "source": [
    "rw = []\n",
    "for i, wc in champs.iterrows():\n",
    "    year = getWinsForYear(wc['year'])\n",
    "    rw.append(year[year.index==wc['driverId']]['RaceWins'].values[0])\n",
    "champs['RaceWins'] = rw\n",
    "champs.sort_values(by=['RaceWins'], ascending=False)"
   ]
  },
  {
   "cell_type": "code",
   "execution_count": null,
   "metadata": {},
   "outputs": [],
   "source": [
    "# Setup figure\n",
    "fig, ax = plt.subplots()\n",
    "fig.set_figheight(13)\n",
    "fig.set_figwidth(13)\n",
    "fig.patch.set_facecolor('#dddddd')\n",
    "ax.set_facecolor('#eeeeee')\n",
    "\n",
    "# Scatter the data points and draw lines between them\n",
    "ax.scatter(champs['year'], champs['RaceWins'])\n",
    "ax.plot(champs['year'], champs['RaceWins'])\n",
    "\n",
    "# Set visual aspects of figure\n",
    "ax.xaxis.grid(True)\n",
    "ax.set_xlabel('Year')\n",
    "ax.set_ylabel('Race wins')\n",
    "ax.set_title('Race wins for champion')\n",
    "\n",
    "# Horizontal mean line\n",
    "ax.axhline(y=champs['RaceWins'].mean(), color='r', linestyle='--', label='Average race wins by champions')\n",
    "\n",
    "# Show figure\n",
    "ax.legend()\n",
    "plt.show()"
   ]
  },
  {
   "cell_type": "markdown",
   "metadata": {},
   "source": [
    "Races to win a championship is a bit arbitrary because the total amount of races per season varies. Better to look at wins/races ratio"
   ]
  },
  {
   "cell_type": "code",
   "execution_count": null,
   "metadata": {},
   "outputs": [],
   "source": [
    "def getTotalRacesInYear(year):\n",
    "    return pd.read_sql_query(' '.join([\n",
    "        'SELECT COUNT(*) AS Races',\n",
    "        'FROM Races AS ra',\n",
    "        f'WHERE ra.year = {year}'\n",
    "    ]), engine)['Races'].values[0]\n",
    "\n",
    "getTotalRacesInYear(2019)"
   ]
  },
  {
   "cell_type": "code",
   "execution_count": null,
   "metadata": {},
   "outputs": [],
   "source": [
    "champs['totalRaces'] = [getTotalRacesInYear(x) for x in champs['year']]\n",
    "champs['win/race Ratio'] = [x['RaceWins']/x['totalRaces'] for i, x in champs.iterrows()]\n",
    "champs.sort_values(by=['win/race Ratio'])"
   ]
  },
  {
   "cell_type": "markdown",
   "metadata": {},
   "source": [
    "Average win/race ratio to win the championship"
   ]
  },
  {
   "cell_type": "code",
   "execution_count": null,
   "metadata": {},
   "outputs": [],
   "source": [
    "# Setup figure\n",
    "fig, ax = plt.subplots()\n",
    "fig.set_figheight(13)\n",
    "fig.set_figwidth(13)\n",
    "fig.patch.set_facecolor('#dddddd')\n",
    "ax.set_facecolor('#eeeeee')\n",
    "\n",
    "# Scatter the points and draw lines between them\n",
    "ax.scatter(champs['year'], champs['win/race Ratio'])\n",
    "ax.plot(champs['year'], champs['win/race Ratio'])\n",
    "\n",
    "# Set visual aspects of figure\n",
    "ax.xaxis.grid(True)\n",
    "ax.set_xlabel('Year')\n",
    "ax.set_ylabel('Race wins')\n",
    "ax.set_title('% of races won by champions')\n",
    "\n",
    "# Horizontal average line\n",
    "ax.axhline(y=champs['win/race Ratio'].mean(), color='r', linestyle='--', label='Average race win/races by champions')\n",
    "\n",
    "# Show figure\n",
    "ax.legend()\n",
    "plt.show()"
   ]
  },
  {
   "cell_type": "markdown",
   "metadata": {},
   "source": [
    "Average win/race ratio per decade"
   ]
  },
  {
   "cell_type": "code",
   "execution_count": null,
   "metadata": {},
   "outputs": [],
   "source": [
    "# Setup figure\n",
    "fig, ax = plt.subplots()\n",
    "fig.set_figheight(13)\n",
    "fig.set_figwidth(13)\n",
    "fig.patch.set_facecolor('#dddddd')\n",
    "ax.set_facecolor('#eeeeee')\n",
    "\n",
    "# Split years into decades and calculate average for each\n",
    "avgDecY = [[champs[champs['year'].astype(str).str.contains(str(x))]['win/race Ratio'].mean() for x in range(195,202)][i//10] for i, x in champs.iterrows()]\n",
    "\n",
    "# Set visual aspects of figure\n",
    "ax.xaxis.grid(True)\n",
    "ax.set_xlabel('Year')\n",
    "ax.set_ylabel('Race wins')\n",
    "ax.set_title('% of races won by champion')\n",
    "\n",
    "# Plot datapoints and lines connecting them\n",
    "ax.scatter(champs['year'], champs['win/race Ratio'])\n",
    "ax.plot(champs['year'], champs['win/race Ratio'])\n",
    "\n",
    "# Plot average per decade\n",
    "ax.plot(champs['year'], avgDecY, color='r', linestyle='--', label='Per decade average')\n",
    "ax.plot(range(1949,1951), avgDecY[:2], color='r', linestyle='--')\n",
    "ax.plot(range(2019,2021), avgDecY[-2:], color='r', linestyle='--')\n",
    "\n",
    "# Show figure\n",
    "ax.legend()\n",
    "plt.show()"
   ]
  },
  {
   "cell_type": "markdown",
   "metadata": {},
   "source": [
    "Carreer win/race stats"
   ]
  },
  {
   "cell_type": "code",
   "execution_count": null,
   "metadata": {},
   "outputs": [],
   "source": [
    "def joinQueries(queries):\n",
    "    joinQuery = queries[0]\n",
    "    for i in queries[1:]:\n",
    "        joinQuery = joinQuery.join(i)\n",
    "    return joinQuery"
   ]
  },
  {
   "cell_type": "code",
   "execution_count": null,
   "metadata": {},
   "outputs": [],
   "source": [
    "winLossDrivers = joinQueries([\n",
    "    pd.read_sql_query(' '.join([\n",
    "        'SELECT driverId, forename, surname',\n",
    "        'FROM Drivers'\n",
    "    ]), engine).set_index('driverId'),\n",
    "     pd.read_sql_query(' '.join([\n",
    "        'SELECT re.driverId, COUNT(re.resultId) AS Entries',\n",
    "        'FROM Results AS re',\n",
    "        'GROUP BY re.driverId'\n",
    "    ]), engine).set_index('driverId'),\n",
    "    pd.read_sql_query(' '.join([\n",
    "        'SELECT re.driverId, COUNT(re.resultId) AS Wins',\n",
    "        'FROM Results AS re',\n",
    "        'WHERE re.positionText = \"1\"',\n",
    "        'GROUP BY re.driverId'\n",
    "    ]), engine).set_index('driverId')\n",
    "]).fillna(0)\n",
    "\n",
    "winLossDrivers['ratio'] = [x['Wins']/x['Entries'] for i, x in winLossDrivers.iterrows()]\n",
    "winLossDrivers.sort_values(by=['ratio'], ascending=False)"
   ]
  },
  {
   "cell_type": "code",
   "execution_count": null,
   "metadata": {},
   "outputs": [],
   "source": [
    "wlpt = winLossDrivers.drop(winLossDrivers[winLossDrivers['Wins'] < 1].index)\n",
    "plt.scatter(wlpt.index, wlpt['ratio'])\n",
    "plt.show()"
   ]
  },
  {
   "cell_type": "markdown",
   "metadata": {},
   "source": [
    "Average finishing position for drivers"
   ]
  },
  {
   "cell_type": "code",
   "execution_count": null,
   "metadata": {},
   "outputs": [],
   "source": [
    "avgFinPos = pd.read_sql_query(' '.join([\n",
    "    'SELECT res.driverId, drv.forename, drv.surname, AVG(res.positionOrder) AS AverageFinishingPosition',\n",
    "    'FROM Results AS res',\n",
    "    'JOIN Drivers as drv',\n",
    "    'ON drv.driverId = res.driverId',\n",
    "    'GROUP BY res.driverId',\n",
    "]), engine).set_index('driverId')\n",
    "avgFinPos.sort_values(by=['AverageFinishingPosition'])"
   ]
  },
  {
   "cell_type": "markdown",
   "metadata": {},
   "source": [
    "Number of finishes for drivers"
   ]
  },
  {
   "cell_type": "code",
   "execution_count": null,
   "metadata": {},
   "outputs": [],
   "source": [
    "finishes = pd.read_sql_query(' '.join([\n",
    "    'SELECT r.driverId, COUNT(r.driverId) AS Finishes',\n",
    "    'From Results AS r',\n",
    "    'WHERE r.positionText != \"R\"',\n",
    "    'AND r.positionText != \"D\"',\n",
    "    'AND r.positionText != \"F\"',\n",
    "    'GROUP BY r.driverId'\n",
    "]), engine).set_index('driverId')\n",
    "finishes"
   ]
  },
  {
   "cell_type": "markdown",
   "metadata": {},
   "source": [
    "Number of entries for drivers"
   ]
  },
  {
   "cell_type": "code",
   "execution_count": null,
   "metadata": {},
   "outputs": [],
   "source": [
    "entries = pd.read_sql_query(' '.join([\n",
    "    'SELECT r.driverId, COUNT(r.driverId) AS Entries',\n",
    "    'FROM Results AS r',\n",
    "    'GROUP BY r.driverId'\n",
    "]), engine).set_index('driverId')\n",
    "entries"
   ]
  },
  {
   "cell_type": "code",
   "execution_count": null,
   "metadata": {},
   "outputs": [],
   "source": [
    "finEntRatio = finishes.join(entries)\n",
    "finEntRatio['Finishes/Entries'] = [x['Finishes']/x['Entries'] for i, x in finEntRatio.iterrows()]\n",
    "finEntRatio"
   ]
  },
  {
   "cell_type": "markdown",
   "metadata": {},
   "source": [
    "Number of pole positions for drivers"
   ]
  },
  {
   "cell_type": "code",
   "execution_count": null,
   "metadata": {},
   "outputs": [],
   "source": [
    "poles = pd.read_sql_query(' '.join([\n",
    "    'SELECT res.driverId, COUNT(res.resultId) AS polePositions',\n",
    "    'FROM Results AS res',\n",
    "    'WHERE res.grid = 1',\n",
    "    'GROUP BY res.driverId'\n",
    "]), engine).set_index('driverId')\n",
    "poles"
   ]
  },
  {
   "cell_type": "markdown",
   "metadata": {},
   "source": [
    "Average start position"
   ]
  },
  {
   "cell_type": "code",
   "execution_count": null,
   "metadata": {},
   "outputs": [],
   "source": [
    "gridPos = pd.read_sql_query(' '.join([\n",
    "    'SELECT r.driverId, AVG(r.grid) AS AverageGridPosition',\n",
    "    'FROM Results AS r',\n",
    "    'GROUP BY r.driverId'\n",
    "]), engine).set_index('driverId')\n",
    "gridPos"
   ]
  },
  {
   "cell_type": "markdown",
   "metadata": {},
   "source": [
    "Is Champion"
   ]
  },
  {
   "cell_type": "code",
   "execution_count": null,
   "metadata": {},
   "outputs": [],
   "source": [
    "isChamp = pd.DataFrame({'driverId': pd.read_sql_query(' '.join(['SELECT driverId FROM drivers']), engine)['driverId'], 'isChamp': np.array([row['driverId'] in championships['driverId'].to_numpy() \n",
    "                  for i, row in pd.read_sql_query(' '.join(['SELECT driverId FROM Drivers']), engine).iterrows()])}).set_index('driverId')\n",
    "\n",
    "isChamp"
   ]
  },
  {
   "cell_type": "markdown",
   "metadata": {},
   "source": [
    "Master dataframe"
   ]
  },
  {
   "cell_type": "code",
   "execution_count": null,
   "metadata": {},
   "outputs": [],
   "source": [
    "master = joinQueries(\n",
    "    [\n",
    "        avgFinPos,\n",
    "        finishes,\n",
    "        entries,\n",
    "        finEntRatio[['Finishes/Entries']],\n",
    "        championships.set_index('driverId')[['Championships']], \n",
    "        poles,\n",
    "        gridPos,\n",
    "        isChamp\n",
    "    ]\n",
    ").fillna(0)\n",
    "master"
   ]
  }
 ],
 "metadata": {
  "kernelspec": {
   "display_name": "Python 3",
   "language": "python",
   "name": "python3"
  },
  "language_info": {
   "codemirror_mode": {
    "name": "ipython",
    "version": 3
   },
   "file_extension": ".py",
   "mimetype": "text/x-python",
   "name": "python",
   "nbconvert_exporter": "python",
   "pygments_lexer": "ipython3",
   "version": "3.7.4"
  }
 },
 "nbformat": 4,
 "nbformat_minor": 2
}
