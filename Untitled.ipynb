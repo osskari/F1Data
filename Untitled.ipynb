{
 "cells": [
  {
   "cell_type": "markdown",
   "metadata": {},
   "source": [
    "# Data analysis of Formula 1 history\n",
    "#### Final project for Data Science course at Reykjavík University\n",
    "#### Notebook by:\n",
    "Baldur Óli Barkarson  \n",
    "Kristinn Björgvinsson  \n",
    "Óskar Jörgen Sandholt\n",
    "\n",
    "\n",
    "\n",
    "\n",
    "# Table of contents\n",
    "\n",
    "1. Introduction\n",
    "2. License\n",
    "3. Required libraries\n",
    "4. The problem\n",
    "5. Strategy\n",
    "6. Checking data\n",
    "7. Cleaning data\n",
    "8. Exploring data\n",
    "    1. map\n",
    "    1. HAM/ROS rivalry\n",
    "    1. rtre\n",
    "9. Creating DF for Regression/Classification\n",
    "10. Predicting a champion\n",
    "11. Conclusion\n",
    "\n",
    "# Introduction\n",
    "Throughout the 70 year history of Formula 1 we have seen countless innovative designs to push forward the pinnacle of motorsport. Formula 1 is in quite a unique position as a sport, as we have stats for every season of the sport's existence that are very comparable to modern stats. This means we have a good way to compare legends old and new (and the not so legendary).\n",
    "\n",
    "In this notebook we will "
   ]
  },
  {
   "cell_type": "code",
   "execution_count": null,
   "metadata": {},
   "outputs": [],
   "source": [
    "import pandas as pd \n",
    "import numpy as np\n",
    "import matplotlib.pyplot as plt\n",
    "\n",
    "# Fix for when basemap doesn't find epsg file\n",
    "# import os\n",
    "# # <Path to anaconda>\\\\pkgs\\\\proj4-5.2.0-ha925a31_1\\\\Library\\\\share\n",
    "# os.environ['PROJ_LIB'] = 'E:\\\\Anaconda\\\\pkgs\\\\proj4-5.2.0-ha925a31_1\\\\Library\\\\share'"
   ]
  },
  {
   "cell_type": "markdown",
   "metadata": {},
   "source": [
    "Create Tables"
   ]
  },
  {
   "cell_type": "code",
   "execution_count": null,
   "metadata": {},
   "outputs": [],
   "source": [
    "# Create a local SQLite database\n",
    "from sqlalchemy import create_engine\n",
    "engine = create_engine('sqlite:///:memory:')\n",
    "\n",
    "# Import DB creation objects and initialize \n",
    "from sqlalchemy import Table, Column, Integer, String, Float, MetaData, ForeignKey, Date\n",
    "meta = MetaData()\n",
    "\n",
    "# Create tables\n",
    "\n",
    "# Circuits\n",
    "Table (\n",
    "    'Circuits', meta,\n",
    "    Column('circuitId', Integer, primary_key=True),\n",
    "    Column('circuitRef', String),\n",
    "    Column('name', String),\n",
    "    Column('location', String),\n",
    "    Column('country', String),\n",
    "    Column('lat', Float),\n",
    "    Column('lng', Float),\n",
    "#     Column('alt', Integer),\n",
    "#     Column('url', String)\n",
    ")\n",
    "\n",
    "# Races\n",
    "Table (\n",
    "    'Races', meta,\n",
    "    Column('raceId', Integer, primary_key=True),\n",
    "    Column('year', Integer),\n",
    "    Column('round', Integer),\n",
    "    Column('circuitId', ForeignKey('Circuits.circuitId')),\n",
    "    Column('name', String),\n",
    "    Column('date', Date),\n",
    "    Column('time', String),\n",
    "#     Column('url', String)\n",
    ")\n",
    "\n",
    "# Drivers\n",
    "Table (\n",
    "    'Drivers', meta,\n",
    "    Column('driverId', Integer, primary_key=True),\n",
    "    Column('driverRef', String),\n",
    "#     Column('number', Integer),\n",
    "#     Column('code', String),\n",
    "    Column('forename', String),\n",
    "    Column('surname', String),\n",
    "    Column('dob', String),\n",
    "    Column('nationality', String),\n",
    "#     Column('url', String)\n",
    ")\n",
    "\n",
    "# Constructors\n",
    "Table (\n",
    "    'Constructors', meta,\n",
    "    Column('constructorId', Integer, primary_key=True),\n",
    "    Column('constructorRef', String),\n",
    "    Column('name', String),\n",
    "    Column('nationality', String),\n",
    "#     Column('url', String)\n",
    ")\n",
    "\n",
    "# Status\n",
    "Table (\n",
    "    'Status', meta,\n",
    "    Column('statusId', Integer, primary_key=True),\n",
    "    Column('status', String)\n",
    ")\n",
    "\n",
    "# Results\n",
    "Table (\n",
    "    'Results', meta,\n",
    "    Column('resultId', Integer, primary_key=True),\n",
    "    Column('raceId', ForeignKey('Races.raceId')),\n",
    "    Column('driverId', ForeignKey('Drivers.driverId')),\n",
    "    Column('constructorId', ForeignKey('Constructors.constructorId')),\n",
    "#     Column('number', Integer),\n",
    "    Column('grid', Integer),\n",
    "#     Column('position', Integer),\n",
    "    Column('positionText', String),\n",
    "    Column('positionOrder', Integer),\n",
    "    Column('points', Integer),\n",
    "    Column('laps', Integer),\n",
    "    Column('time', String),\n",
    "    Column('milliseconds', Integer),\n",
    "    Column('fastestLap', Integer),\n",
    "    Column('rank', Integer),\n",
    "    Column('fastestLapTime', String),\n",
    "    Column('fastestLapSpeed', Float),\n",
    "    Column('statusId', ForeignKey('Status.statusId'))\n",
    ")\n",
    "\n",
    "# Driver Standings\n",
    "Table (\n",
    "    'DriverStandings', meta,\n",
    "    Column('driverStandingsId', Integer, primary_key=True),\n",
    "    Column('raceId', ForeignKey('Races.raceId')),\n",
    "    Column('driverId', ForeignKey('Drivers.driverId')),\n",
    "    Column('points', Integer),\n",
    "#     Column('position', Integer),\n",
    "    Column('positionText', String),\n",
    "    Column('wins', Integer)\n",
    ")\n",
    "\n",
    "# Constructor Results\n",
    "Table (\n",
    "    'ConstructorResults', meta,\n",
    "    Column('constructorResultsId', Integer, primary_key=True),\n",
    "    Column('raceId', ForeignKey('Races.raceId')),\n",
    "    Column('constructorId', ForeignKey('Constructors.constructorId')),\n",
    "    Column('points', Integer),\n",
    "    Column('status', String)\n",
    ")\n",
    "\n",
    "# Constructor Standings\n",
    "Table (\n",
    "    'ConstructorStandings', meta,\n",
    "    Column('constructorStandingsId', Integer, primary_key=True),\n",
    "    Column('raceId', ForeignKey('Races.raceId')),\n",
    "    Column('constructorId', ForeignKey('Constructors.constructorId')),\n",
    "    Column('points', Integer),\n",
    "#     Column('position', Integer),\n",
    "    Column('positionText', String),\n",
    "    Column('wins', Integer)\n",
    ")\n",
    "\n",
    "# Pit Stops\n",
    "Table (\n",
    "    'PitStops', meta,\n",
    "    Column('raceId', ForeignKey('Races.raceId')),\n",
    "    Column('driverId', ForeignKey('Drivers.driverId')),\n",
    "    Column('stop', Integer),\n",
    "    Column('lap', Integer),\n",
    "    Column('time', Date),\n",
    "    Column('duration', String),\n",
    "    Column('milliseconds', Integer)\n",
    ")\n",
    "\n",
    "Table (\n",
    "    'Seasons', meta,\n",
    "    Column('year', Integer),\n",
    "#     Column('url', String)\n",
    ")\n",
    "\n",
    "# Create tables in database\n",
    "meta.create_all(engine)"
   ]
  },
  {
   "cell_type": "markdown",
   "metadata": {},
   "source": [
    "Read from csv files, drop unwanted columns and write the rest to database"
   ]
  },
  {
   "cell_type": "code",
   "execution_count": null,
   "metadata": {},
   "outputs": [],
   "source": [
    "def populate_table(fileName, tableName, drop=[]):\n",
    "    pd.read_csv(\"formula-1-race-data-19502017/\"+fileName, encoding=\"ISO-8859-1\").drop(drop, axis=1).to_sql(\n",
    "        tableName, engine, if_exists='append', index=False)\n",
    "    \n",
    "# Populate tables with .csv data\n",
    "\n",
    "# Circuits\n",
    "populate_table('circuits.csv', 'Circuits', ['alt', 'url'])\n",
    "\n",
    "# Races\n",
    "populate_table('races.csv', 'Races', ['url'])\n",
    "\n",
    "# Drivers\n",
    "populate_table('drivers.csv', 'Drivers', ['number', 'code', 'url'])\n",
    "\n",
    "# Constructors\n",
    "populate_table('constructors.csv', 'Constructors', ['url'])\n",
    "\n",
    "# Status\n",
    "populate_table('status.csv', 'Status')\n",
    "\n",
    "# Status\n",
    "populate_table('results.csv', 'Results', ['number', 'position'])\n",
    "\n",
    "# Driver Standings\n",
    "populate_table('driverStandings.csv', 'DriverStandings', ['position'])\n",
    "\n",
    "# Constructor Results\n",
    "populate_table('constructorResults.csv', 'ConstructorResults')\n",
    "\n",
    "# Constructor Standings\n",
    "populate_table('constructorStandings.csv', 'ConstructorStandings', ['position'])\n",
    "\n",
    "# Pit Stops\n",
    "populate_table('pitStops.csv', 'PitStops')\n",
    "\n",
    "# Seasons\n",
    "populate_table('seasons.csv', 'Seasons', ['url'])"
   ]
  },
  {
   "cell_type": "markdown",
   "metadata": {
    "scrolled": true
   },
   "source": [
    "Winning drivers ordered by amount of wins"
   ]
  },
  {
   "cell_type": "code",
   "execution_count": null,
   "metadata": {},
   "outputs": [],
   "source": [
    "winners = pd.read_sql_query(' '.join(\n",
    "    [\n",
    "        'SELECT r.driverId, d.forename, d.surname, count(r.driverId) AS wins',\n",
    "        'FROM Results AS r',\n",
    "        'JOIN Drivers AS d',\n",
    "        'ON d.driverId = r.driverId',\n",
    "        'WHERE r.positionText = \"1\"',\n",
    "        'GROUP BY r.driverId',\n",
    "        'ORDER BY wins ASC'\n",
    "    ]), engine).set_index('driverId')\n",
    "winners"
   ]
  },
  {
   "cell_type": "code",
   "execution_count": null,
   "metadata": {},
   "outputs": [],
   "source": [
    "# Setup figure\n",
    "fig, ax = plt.subplots()\n",
    "fig.set_figheight(15)\n",
    "fig.set_figwidth(12)\n",
    "fig.patch.set_facecolor('#dddddd')\n",
    "ax.set_facecolor('#eeeeee')\n",
    "\n",
    "# Prepare data\n",
    "winplots = winners[winners['wins'] > 2].sort_values(by=['wins'], ascending=False)\n",
    "people = tuple([row['forename'] + ' ' + row['surname']for i, row in winplots.iterrows()])\n",
    "colors = [f'C{i}' for i in range(len(people))]\n",
    "\n",
    "# Plot data\n",
    "ax.barh(people, winplots['wins'], align='center', color=colors)\n",
    "\n",
    "# Set visual components of plot\n",
    "ax.margins(x=0.1, y=0.005)\n",
    "ax.invert_yaxis()\n",
    "ax.set_xlabel('Number of race wins')\n",
    "ax.set_ylabel('Driver names')\n",
    "ax.set_title('Race wins for drivers (more than 2 wins)')\n",
    "ax.xaxis.grid(True)\n",
    "\n",
    "# Vertivcal average line\n",
    "ax.axvline(x=winners['wins'].mean(), color='#000000', linestyle='--', linewidth=1.3)\n",
    "ax.text(winners['wins'].mean()-3, 64.5, 'Average', horizontalalignment='left', verticalalignment='top')\n",
    "\n",
    "# Show figure\n",
    "plt.show()"
   ]
  },
  {
   "cell_type": "markdown",
   "metadata": {},
   "source": [
    "Championship order for any year"
   ]
  },
  {
   "cell_type": "code",
   "execution_count": null,
   "metadata": {
    "scrolled": false
   },
   "outputs": [],
   "source": [
    "def getStandingsForYear(year):\n",
    "    stand = pd.read_sql_query(' '.join([\n",
    "        f'SELECT d.driverId, d.forename, d.surname, d.dob, d.nationality, SUM(res.points) as TotalPoints',\n",
    "        'FROM Results AS res',\n",
    "        'JOIN Races AS rc',\n",
    "        'ON rc.raceId = res.raceId',\n",
    "        'JOIN Drivers as d',\n",
    "        'ON d.driverId = res.driverId',\n",
    "        f'WHERE rc.year = {year}',\n",
    "        'GROUP BY res.driverId',\n",
    "        'ORDER BY TotalPoints DESC'\n",
    "    ]), engine)\n",
    "    stand.insert(1, 'position', [x+1 for x in stand.index])\n",
    "    return stand.set_index('driverId')\n",
    "    \n",
    "getStandingsForYear(1992)"
   ]
  },
  {
   "cell_type": "code",
   "execution_count": null,
   "metadata": {},
   "outputs": [],
   "source": []
  },
  {
   "cell_type": "markdown",
   "metadata": {},
   "source": [
    "List of drivers world champions by year"
   ]
  },
  {
   "cell_type": "code",
   "execution_count": null,
   "metadata": {},
   "outputs": [],
   "source": [
    "champions = {'driverId': [], 'year': [], 'winner': []}\n",
    "for year in np.sort(pd.read_sql_query('SELECT * FROM Seasons',engine)['year'].values):\n",
    "    standings = getStandingsForYear(year)\n",
    "    champions['year'].append(year)\n",
    "    champions['winner'].append(' '.join(standings.iloc[0][['forename', 'surname']].to_numpy()))\n",
    "    champions['driverId'].append(standings.iloc[0].name)\n",
    "\n",
    "champs = pd.DataFrame(champions)\n",
    "champs"
   ]
  },
  {
   "cell_type": "markdown",
   "metadata": {},
   "source": [
    "World champions ordered by number of championships won"
   ]
  },
  {
   "cell_type": "code",
   "execution_count": null,
   "metadata": {},
   "outputs": [],
   "source": [
    "champCount = {k: 0 for k in champs['winner'].unique()}\n",
    "for i, row in champs.iterrows():\n",
    "    champCount[row['winner']]+=1\n",
    "championships = pd.DataFrame({'driverId': [x for x in champs['driverId'].unique()], \n",
    "              'Drivers': list(champCount.keys()), \n",
    "              'Championships': list(champCount.values())}).sort_values(by=['Championships'], ascending=False)\n",
    "championships"
   ]
  },
  {
   "cell_type": "code",
   "execution_count": null,
   "metadata": {},
   "outputs": [],
   "source": [
    "# Setup figure\n",
    "fig, ax = plt.subplots()\n",
    "fig.set_figheight(11)\n",
    "fig.set_figwidth(11)\n",
    "fig.patch.set_facecolor('#dddddd')\n",
    "ax.set_facecolor('#eeeeee')\n",
    "\n",
    "# Alternate bar colors\n",
    "colors = [f'C{i}' for i in range(championships.shape[0])]\n",
    "\n",
    "# Plot data\n",
    "ax.barh(championships['Drivers'], championships['Championships'], color=colors)\n",
    "\n",
    "# Set visual components of plot\n",
    "ax.margins(x=0.1, y=0.005)\n",
    "ax.invert_yaxis()\n",
    "ax.set_xlabel('Number of championships')\n",
    "ax.set_ylabel('Driver names')\n",
    "ax.set_title('Driver championships winners')\n",
    "ax.xaxis.grid(True)\n",
    "\n",
    "# Show figure\n",
    "plt.show()"
   ]
  },
  {
   "cell_type": "markdown",
   "metadata": {},
   "source": [
    "Race wins for a year"
   ]
  },
  {
   "cell_type": "code",
   "execution_count": null,
   "metadata": {},
   "outputs": [],
   "source": [
    "def getWinsForYear(year):\n",
    "    return pd.read_sql_query(' '.join([\n",
    "        'SELECT d.driverId, d.forename, d.surname, d.dob, d.nationality, COUNT(res.positionText) as RaceWins',\n",
    "        'FROM Results AS res',\n",
    "        'JOIN Races AS rc',\n",
    "        'ON rc.raceId = res.raceId',\n",
    "        'JOIN Drivers as d',\n",
    "        'ON d.driverId = res.driverId',\n",
    "        f'WHERE rc.year = {year}',\n",
    "        'AND res.positionText = \"1\"',\n",
    "        'GROUP BY res.driverId',\n",
    "        'ORDER BY RaceWins DESC'\n",
    "    ]), engine).set_index('driverId')\n",
    "\n",
    "getWinsForYear(1982)"
   ]
  },
  {
   "cell_type": "markdown",
   "metadata": {},
   "source": [
    "Race wins to win a championship"
   ]
  },
  {
   "cell_type": "code",
   "execution_count": null,
   "metadata": {},
   "outputs": [],
   "source": [
    "rw = []\n",
    "for i, wc in champs.iterrows():\n",
    "    year = getWinsForYear(wc['year'])\n",
    "    rw.append(year[year.index==wc['driverId']]['RaceWins'].values[0])\n",
    "champs['RaceWins'] = rw\n",
    "champs.sort_values(by=['RaceWins'], ascending=False)"
   ]
  },
  {
   "cell_type": "code",
   "execution_count": null,
   "metadata": {},
   "outputs": [],
   "source": [
    "# Setup figure\n",
    "fig, ax = plt.subplots()\n",
    "fig.set_figheight(13)\n",
    "fig.set_figwidth(13)\n",
    "fig.patch.set_facecolor('#dddddd')\n",
    "ax.set_facecolor('#eeeeee')\n",
    "\n",
    "# Scatter the data points and draw lines between them\n",
    "ax.scatter(champs['year'], champs['RaceWins'])\n",
    "ax.plot(champs['year'], champs['RaceWins'])\n",
    "\n",
    "# Set visual aspects of figure\n",
    "ax.xaxis.grid(True)\n",
    "ax.set_xlabel('Year')\n",
    "ax.set_ylabel('Race wins')\n",
    "ax.set_title('Race wins for champion')\n",
    "\n",
    "# Horizontal mean line\n",
    "ax.axhline(y=champs['RaceWins'].mean(), color='r', linestyle='--', label='Average race wins by champions')\n",
    "\n",
    "# Show figure\n",
    "ax.legend()\n",
    "plt.show()"
   ]
  },
  {
   "cell_type": "markdown",
   "metadata": {},
   "source": [
    "Races to win a championship is a bit arbitrary because the total amount of races per season varies. Better to look at wins/races ratio"
   ]
  },
  {
   "cell_type": "code",
   "execution_count": null,
   "metadata": {},
   "outputs": [],
   "source": [
    "def getTotalRacesInYear(year):\n",
    "    return pd.read_sql_query(' '.join([\n",
    "        'SELECT COUNT(*) AS Races',\n",
    "        'FROM Races AS ra',\n",
    "        f'WHERE ra.year = {year}'\n",
    "    ]), engine)['Races'].values[0]\n",
    "\n",
    "getTotalRacesInYear(2019)"
   ]
  },
  {
   "cell_type": "code",
   "execution_count": null,
   "metadata": {},
   "outputs": [],
   "source": [
    "champs['totalRaces'] = [getTotalRacesInYear(x) for x in champs['year']]\n",
    "champs['win/race Ratio'] = [x['RaceWins']/x['totalRaces'] for i, x in champs.iterrows()]\n",
    "champs.sort_values(by=['win/race Ratio'])"
   ]
  },
  {
   "cell_type": "markdown",
   "metadata": {},
   "source": [
    "Average win/race ratio to win the championship"
   ]
  },
  {
   "cell_type": "code",
   "execution_count": null,
   "metadata": {},
   "outputs": [],
   "source": [
    "# Setup figure\n",
    "fig, ax = plt.subplots()\n",
    "fig.set_figheight(13)\n",
    "fig.set_figwidth(13)\n",
    "fig.patch.set_facecolor('#dddddd')\n",
    "ax.set_facecolor('#eeeeee')\n",
    "\n",
    "# Scatter the points and draw lines between them\n",
    "ax.scatter(champs['year'], champs['win/race Ratio'])\n",
    "ax.plot(champs['year'], champs['win/race Ratio'])\n",
    "\n",
    "# Set visual aspects of figure\n",
    "ax.xaxis.grid(True)\n",
    "ax.set_xlabel('Year')\n",
    "ax.set_ylabel('Race wins')\n",
    "ax.set_title('% of races won by champions')\n",
    "\n",
    "# Horizontal average line\n",
    "ax.axhline(y=champs['win/race Ratio'].mean(), color='r', linestyle='--', label='Average race win/races by champions')\n",
    "\n",
    "# Show figure\n",
    "ax.legend()\n",
    "plt.show()"
   ]
  },
  {
   "cell_type": "markdown",
   "metadata": {},
   "source": [
    "Average win/race ratio per decade"
   ]
  },
  {
   "cell_type": "code",
   "execution_count": null,
   "metadata": {},
   "outputs": [],
   "source": [
    "# Setup figure\n",
    "fig, ax = plt.subplots()\n",
    "fig.set_figheight(13)\n",
    "fig.set_figwidth(13)\n",
    "fig.patch.set_facecolor('#dddddd')\n",
    "ax.set_facecolor('#eeeeee')\n",
    "\n",
    "# Split years into decades and calculate average for each\n",
    "avgDecY = [[champs[champs['year'].astype(str).str.contains(str(x))]['win/race Ratio'].mean() for x in range(195,202)][i//10] for i, x in champs.iterrows()]\n",
    "\n",
    "# Set visual aspects of figure\n",
    "ax.xaxis.grid(True)\n",
    "ax.set_xlabel('Year')\n",
    "ax.set_ylabel('Race wins')\n",
    "ax.set_title('% of races won by champion')\n",
    "\n",
    "# Plot datapoints and lines connecting them\n",
    "ax.scatter(champs['year'], champs['win/race Ratio'])\n",
    "ax.plot(champs['year'], champs['win/race Ratio'])\n",
    "\n",
    "# Plot average per decade\n",
    "ax.plot(champs['year'], avgDecY, color='r', linestyle='--', label='Per decade average')\n",
    "ax.plot(range(1949,1951), avgDecY[:2], color='r', linestyle='--')\n",
    "ax.plot(range(2019,2021), avgDecY[-2:], color='r', linestyle='--')\n",
    "\n",
    "# Show figure\n",
    "ax.legend()\n",
    "plt.show()"
   ]
  },
  {
   "cell_type": "markdown",
   "metadata": {},
   "source": [
    "Carreer win/race stats"
   ]
  },
  {
   "cell_type": "code",
   "execution_count": null,
   "metadata": {},
   "outputs": [],
   "source": [
    "def joinQueries(queries):\n",
    "    joinQuery = queries[0]\n",
    "    for i in queries[1:]:\n",
    "        joinQuery = joinQuery.join(i)\n",
    "    return joinQuery"
   ]
  },
  {
   "cell_type": "code",
   "execution_count": null,
   "metadata": {},
   "outputs": [],
   "source": [
    "winLossDrivers = joinQueries([\n",
    "    pd.read_sql_query(' '.join([\n",
    "        'SELECT driverId, forename, surname',\n",
    "        'FROM Drivers'\n",
    "    ]), engine).set_index('driverId'),\n",
    "     pd.read_sql_query(' '.join([\n",
    "        'SELECT re.driverId, COUNT(re.resultId) AS Entries',\n",
    "        'FROM Results AS re',\n",
    "        'GROUP BY re.driverId'\n",
    "    ]), engine).set_index('driverId'),\n",
    "    pd.read_sql_query(' '.join([\n",
    "        'SELECT re.driverId, COUNT(re.resultId) AS Wins',\n",
    "        'FROM Results AS re',\n",
    "        'WHERE re.positionText = \"1\"',\n",
    "        'GROUP BY re.driverId'\n",
    "    ]), engine).set_index('driverId')\n",
    "]).fillna(0)\n",
    "\n",
    "winLossDrivers['ratio'] = [x['Wins']/x['Entries'] for i, x in winLossDrivers.iterrows()]\n",
    "winLossDrivers.sort_values(by=['ratio'], ascending=False)"
   ]
  },
  {
   "cell_type": "code",
   "execution_count": null,
   "metadata": {},
   "outputs": [],
   "source": [
    "wlpt = winLossDrivers.drop(winLossDrivers[winLossDrivers['Wins'] < 1].index)\n",
    "plt.scatter(wlpt.index, wlpt['ratio'])\n",
    "plt.show()"
   ]
  },
  {
   "cell_type": "markdown",
   "metadata": {},
   "source": [
    "Average finishing position for drivers"
   ]
  },
  {
   "cell_type": "code",
   "execution_count": null,
   "metadata": {},
   "outputs": [],
   "source": [
    "avgFinPos = pd.read_sql_query(' '.join([\n",
    "    'SELECT res.driverId, drv.forename, drv.surname, AVG(res.positionOrder) AS AverageFinishingPosition',\n",
    "    'FROM Results AS res',\n",
    "    'JOIN Drivers as drv',\n",
    "    'ON drv.driverId = res.driverId',\n",
    "    'GROUP BY res.driverId',\n",
    "]), engine).set_index('driverId')\n",
    "avgFinPos.sort_values(by=['AverageFinishingPosition'])"
   ]
  },
  {
   "cell_type": "markdown",
   "metadata": {},
   "source": [
    "Number of finishes for drivers"
   ]
  },
  {
   "cell_type": "code",
   "execution_count": null,
   "metadata": {},
   "outputs": [],
   "source": [
    "finishes = pd.read_sql_query(' '.join([\n",
    "    'SELECT r.driverId, COUNT(r.driverId) AS Finishes',\n",
    "    'From Results AS r',\n",
    "    'WHERE r.positionText != \"R\"',\n",
    "    'AND r.positionText != \"D\"',\n",
    "    'AND r.positionText != \"F\"',\n",
    "    'GROUP BY r.driverId'\n",
    "]), engine).set_index('driverId')\n",
    "finishes"
   ]
  },
  {
   "cell_type": "markdown",
   "metadata": {},
   "source": [
    "Number of entries for drivers"
   ]
  },
  {
   "cell_type": "code",
   "execution_count": null,
   "metadata": {},
   "outputs": [],
   "source": [
    "entries = pd.read_sql_query(' '.join([\n",
    "    'SELECT r.driverId, COUNT(r.driverId) AS Entries',\n",
    "    'FROM Results AS r',\n",
    "    'GROUP BY r.driverId'\n",
    "]), engine).set_index('driverId')\n",
    "entries"
   ]
  },
  {
   "cell_type": "code",
   "execution_count": null,
   "metadata": {},
   "outputs": [],
   "source": [
    "finEntRatio = finishes.join(entries)\n",
    "finEntRatio['Finishes/Entries'] = [x['Finishes']/x['Entries'] for i, x in finEntRatio.iterrows()]\n",
    "finEntRatio"
   ]
  },
  {
   "cell_type": "markdown",
   "metadata": {},
   "source": [
    "Number of pole positions for drivers"
   ]
  },
  {
   "cell_type": "code",
   "execution_count": null,
   "metadata": {},
   "outputs": [],
   "source": [
    "poles = pd.read_sql_query(' '.join([\n",
    "    'SELECT res.driverId, COUNT(res.resultId) AS polePositions',\n",
    "    'FROM Results AS res',\n",
    "    'WHERE res.grid = 1',\n",
    "    'GROUP BY res.driverId'\n",
    "]), engine).set_index('driverId')\n",
    "poles"
   ]
  },
  {
   "cell_type": "markdown",
   "metadata": {},
   "source": [
    "Average start position"
   ]
  },
  {
   "cell_type": "code",
   "execution_count": null,
   "metadata": {},
   "outputs": [],
   "source": [
    "gridPos = pd.read_sql_query(' '.join([\n",
    "    'SELECT r.driverId, AVG(r.grid) AS AverageGridPosition',\n",
    "    'FROM Results AS r',\n",
    "    'GROUP BY r.driverId'\n",
    "]), engine).set_index('driverId')\n",
    "gridPos"
   ]
  },
  {
   "cell_type": "markdown",
   "metadata": {},
   "source": [
    "Is Champion"
   ]
  },
  {
   "cell_type": "code",
   "execution_count": null,
   "metadata": {},
   "outputs": [],
   "source": [
    "isChamp = pd.DataFrame({'driverId': pd.read_sql_query(' '.join(['SELECT driverId FROM drivers']), engine)['driverId'], 'isChamp': np.array([row['driverId'] in championships['driverId'].to_numpy() \n",
    "                  for i, row in pd.read_sql_query(' '.join(['SELECT driverId FROM Drivers']), engine).iterrows()])}).set_index('driverId')\n",
    "\n",
    "isChamp"
   ]
  },
  {
   "cell_type": "markdown",
   "metadata": {},
   "source": [
    "Master dataframe"
   ]
  },
  {
   "cell_type": "code",
   "execution_count": null,
   "metadata": {},
   "outputs": [],
   "source": [
    "master = joinQueries(\n",
    "    [\n",
    "        avgFinPos,\n",
    "        finishes,\n",
    "        entries,\n",
    "        finEntRatio[['Finishes/Entries']],\n",
    "        championships.set_index('driverId')[['Championships']], \n",
    "        poles,\n",
    "        gridPos,\n",
    "        isChamp\n",
    "    ]\n",
    ").fillna(0)\n",
    "master"
   ]
  },
  {
   "cell_type": "code",
   "execution_count": null,
   "metadata": {},
   "outputs": [],
   "source": [
    "pd.read_sql_query(' '.join([\n",
    "    'SELECT * FROM Results WHERE driverId = 591'\n",
    "]), engine)"
   ]
  },
  {
   "cell_type": "code",
   "execution_count": null,
   "metadata": {
    "scrolled": false
   },
   "outputs": [],
   "source": [
    "from sklearn import preprocessing\n",
    "from xgboost import XGBRegressor\n",
    "from sklearn.model_selection import train_test_split\n",
    "\n",
    "\n",
    "# Id of racer you want to test the dataset on\n",
    "# playerId = 95\n",
    "\n",
    "# Create a testing data and a target data form the dataset\n",
    "X = master.copy().drop(columns=['forename', 'surname', 'Finishes/Entries', 'isChamp', 'Championships'])\n",
    "y = master.copy()['isChamp']\n",
    "\n",
    "\n",
    "# Split the dataset to train data and a test data\n",
    "# X_player, y_player = X.drop(X[(X.index != playerId)].index), y.drop(y[(y.index != playerId)].index);\n",
    "\n",
    "# Create a dataset excluding the racer we want to test the classifier on\n",
    "# X = X.drop(X[(X.index == playerId)].index)\n",
    "# y = y.drop(y[(y.index == playerId)].index)\n",
    "\n",
    "\n",
    "\n",
    "# Split the dataset to train and test data\n",
    "X_train, X_test, y_train, y_test = train_test_split(X, y, test_size=.3)\n",
    "\n",
    "\n",
    "\n",
    "# Create a xgboost regressor\n",
    "clf = XGBRegressor(n_estimators = 500, \n",
    "                       learning_rate = 0.05,\n",
    "                       max_depth=6,\n",
    "                       n_jobs=1,\n",
    "                       alpha = 0.1)\n",
    "\n",
    "\n"
   ]
  },
  {
   "cell_type": "code",
   "execution_count": null,
   "metadata": {
    "scrolled": false
   },
   "outputs": [],
   "source": [
    "# Get 2018 to get Ocon\n",
    "driverIds2018 = getStandingsForYear(2018);\n",
    "# Get 2019 to get everyone except Latifi\n",
    "driverIds2019 = getStandingsForYear(2019);\n",
    "\n",
    "# Kubica and Hulkenberg not competing for 2020\n",
    "driverIds2019 = driverIds2019.drop(driverIds2019[driverIds2019['surname'] == 'Kubica'].index)\n",
    "driverIds2019 = driverIds2019.drop(driverIds2019[driverIds2019['surname'] == 'Hülkenberg'].index)\n",
    "driverIds2019 = driverIds2019.append(driverIds2018.drop(driverIds2018[driverIds2018['surname'] != 'Ocon'].index))\n",
    "\n",
    "# driverIdsyear = driverIdsyear.drop(driverIdsyear[driverIdsyear.index == 9].index)  Ocon\n",
    "# driverIdsyear = driverIdsyear.drop(driverIdsyear[driverIdsyear.index == 807].index)\n",
    "\n",
    "\n",
    "X_2019 = pd.DataFrame()\n",
    "y_2019 = pd.DataFrame()\n",
    "for index, row in driverIds2019.iterrows():\n",
    "    X_2019 = X_2019.append(X.drop(X[X.index != index].index))\n",
    "    y_2019 = y_2019.append(y.drop(y[y.index != index].index))\n",
    "    X = X.drop(X[X.index == index].index)\n",
    "    y = y.drop(y[y.index == index].index)\n",
    "    \n",
    "    \n",
    "# train the classifier\n",
    "clf.fit(X, y, verbose=False)\n",
    "\n",
    "# check the score of the classifier\n",
    "# print(f'score: {clf.score(X_test, y_test)}\\n')\n",
    "\n",
    "\n",
    "predictions = pd.DataFrame(columns=['Predictions', 'Drivers'])\n",
    "\n",
    "for index, row in driverIds2019.iterrows():\n",
    "    prediction = clf.predict(X_2019[X_2019.index == index])[0]\n",
    "    if prediction < 0: prediction = 0;\n",
    "    predictions = predictions.append({'Predictions': prediction\n",
    "                                      , 'Drivers': row['forename'] + \" \" + row['surname']}, ignore_index=True)\n",
    "\n",
    "predictions = predictions.sort_values(by='Predictions', ascending=False)\n",
    "    \n",
    "# # Setup figure\n",
    "fig, ax = plt.subplots()\n",
    "fig.set_figheight(11)\n",
    "fig.set_figwidth(11)\n",
    "fig.patch.set_facecolor('#dddddd')\n",
    "ax.set_facecolor('#eeeeee')\n",
    "\n",
    "# Alternate bar colors\n",
    "colors = [f'C{i}' for i in range(predictions.shape[0])]\n",
    "\n",
    "\n",
    "# Plot data\n",
    "ax.barh(predictions['Drivers'], predictions['Predictions'], color=colors)\n",
    "\n",
    "# # Set visual components of plot\n",
    "ax.margins(x=0.1, y=0.005)\n",
    "ax.invert_yaxis()\n",
    "ax.set_xlabel('Prediction')\n",
    "ax.set_ylabel('Driver names')\n",
    "ax.set_title('Driver probability to win')\n",
    "ax.xaxis.grid(True)\n",
    "\n",
    "# # Show figure\n",
    "plt.show()"
   ]
  },
  {
   "cell_type": "markdown",
   "metadata": {},
   "source": [
    "### Where the races are held\n",
    "\n",
    "Where in the world are the formula races held. "
   ]
  },
  {
   "cell_type": "markdown",
   "metadata": {},
   "source": [
    "Hamilton - Rosberg: Rivalry"
   ]
  },
  {
   "cell_type": "code",
   "execution_count": null,
   "metadata": {},
   "outputs": [],
   "source": [
    "from mpl_toolkits.basemap import Basemap\n",
    "from itertools import chain\n",
    "\n",
    "def draw_map(m, scale=0.2):\n",
    "    # draw a shaded-relief image\n",
    "    m.shadedrelief(scale=scale)\n",
    "    \n",
    "    # lats and longs are returned as a dictionary\n",
    "    lats = m.drawparallels(np.linspace(-90, 90, 13))\n",
    "    lons = m.drawmeridians(np.linspace(-180, 180, 13))\n",
    "\n",
    "    # keys contain the plt.Line2D instances\n",
    "    lat_lines = chain(*(tup[1][0] for tup in lats.items()))\n",
    "    lon_lines = chain(*(tup[1][0] for tup in lons.items()))\n",
    "    all_lines = chain(lat_lines, lon_lines)\n",
    "    \n",
    "    # cycle through these lines and set the desired style\n",
    "    for line in all_lines:\n",
    "        line.set(linestyle='-', alpha=0.3, color='w')\n",
    "\n",
    "fig = plt.figure(figsize=(16, 12), edgecolor='w')\n",
    "m = Basemap(projection='cyl', resolution=None,\n",
    "            llcrnrlat=-70, urcrnrlat=90,\n",
    "            llcrnrlon=-160, urcrnrlon=180, )\n",
    "draw_map(m)\n",
    "\n",
    "circuits = pd.read_sql_query(' '.join([\n",
    "    'SELECT c.lng, c.lat', #'circuitId' ,'circuitRef', 'name', 'location','country', 'lat', 'lng'\n",
    "    'FROM Circuits AS c',\n",
    "    'GROUP BY c.lng, c.lat'\n",
    "]), engine)\n",
    "\n",
    "m.scatter(circuits['lng'], circuits['lat'], alpha=0.7, s=20, color='red')\n",
    "\n",
    "plt.show()"
   ]
  },
  {
   "cell_type": "code",
   "execution_count": null,
   "metadata": {},
   "outputs": [],
   "source": [
    "#All races in the year 2016\n",
    "races_2016 = pd.read_sql_query(' '.join([\n",
    "    'SELECT r.raceId, r.circuitId',\n",
    "    'FROM Races AS r',\n",
    "    'WHERE r.year == 2016'\n",
    "]), engine).set_index('raceId')\n",
    "\n",
    "#Get all circuit to use as x-axis\n",
    "circuit = pd.read_sql_query(' '.join([\n",
    "    'SELECT c.name',\n",
    "    'FROM Circuits AS c'\n",
    "]), engine)\n",
    "\n",
    "#Driver standing of races during 2016 season\n",
    "driver_standings = pd.read_sql_query(' '.join([\n",
    "    'SELECT *',\n",
    "    'FROM DriverStandings As ds',\n",
    "    'WHERE ds.raceId <= 968 AND ds.raceId >= 948'\n",
    "]), engine)\n",
    "\n",
    "#Join together races and circuits to use circuit name for x-axis\n",
    "races_circuits = pd.read_sql_query(' '.join([\n",
    "    'SELECT r.raceId, c.name, c.location, c.country',\n",
    "    'FROM Circuits AS c',\n",
    "    'JOIN Races AS r',\n",
    "    'ON r.circuitId == c.circuitId',\n",
    "    'WHERE r.year == 2016'\n",
    "]), engine)\n",
    "\n",
    "\n",
    "#Drop all drivers that do not have Rosberg's id, merge with races and circuit and sort by raceId to\n",
    "#get the season in order\n",
    "rosberg = driver_standings.drop(driver_standings[(driver_standings.driverId != 3)].index)\n",
    "rosberg = rosberg.merge(races_circuits, on='raceId', how='left').set_index('raceId')\n",
    "rosberg.sort_values(by=['raceId'], inplace=True)\n",
    "\n",
    "#Drop all drivers that do not have Hamilton's id, merge with races and circuit and sort by raceId to\n",
    "#get the season in order\n",
    "hamilton = driver_standings.drop(driver_standings[(driver_standings.driverId != 1)].index)\n",
    "hamilton = hamilton.merge(races_circuits, on='raceId', how='left').set_index('raceId')\n",
    "hamilton.sort_values(by=['raceId'], inplace=True)\n",
    "\n",
    "#Set figure size and face color\n",
    "fig =plt.figure(figsize=(16,8))\n",
    "ax = plt.axes(facecolor='#F0F0F0')\n",
    "ax.set_axisbelow(True)\n",
    "\n",
    "# draw solid white grid lines\n",
    "plt.grid(color='w', linestyle='solid')\n",
    "\n",
    "#plotting Rosberg\n",
    "plt.plot(rosberg.country, rosberg.points, lw=6, alpha=0.6, color='#DC493A', label=\"Nico Rosberg\")\n",
    "plt.scatter(rosberg.country, rosberg.points, color='k', zorder=5)\n",
    "\n",
    "#plotting Hamilton\n",
    "plt.scatter(hamilton.country, hamilton.points, color='k', zorder=5)\n",
    "plt.plot(hamilton.country, hamilton.points, lw=6, alpha=0.6, color='#006494', label=\"Hamilton\")\n",
    "\n",
    "#Setting labels, title, and legend\n",
    "plt.xlabel('Races', fontsize=12, labelpad=16)\n",
    "plt.ylabel('Points',fontsize=12, labelpad=16)\n",
    "plt.title('Points accumulated during season 2016', fontsize=18)\n",
    "fig.tight_layout()\n",
    "plt.legend(loc=0)\n",
    "plt.show()"
   ]
  },
  {
   "cell_type": "code",
   "execution_count": null,
   "metadata": {},
   "outputs": [],
   "source": []
  }
 ],
 "metadata": {
  "kernelspec": {
   "display_name": "Python 3",
   "language": "python",
   "name": "python3"
  },
  "language_info": {
   "codemirror_mode": {
    "name": "ipython",
    "version": 3
   },
   "file_extension": ".py",
   "mimetype": "text/x-python",
   "name": "python",
   "nbconvert_exporter": "python",
   "pygments_lexer": "ipython3",
   "version": "3.7.4"
  }
 },
 "nbformat": 4,
 "nbformat_minor": 2
}
